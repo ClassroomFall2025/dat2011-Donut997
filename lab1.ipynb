{
 "cells": [
  {
   "cell_type": "markdown",
   "id": "fdeff819",
   "metadata": {},
   "source": [
    "# Sinh Viên thực hiện Lab 1 ở Đây"
   ]
  },
  {
   "cell_type": "markdown",
   "id": "acc5d7dc",
   "metadata": {},
   "source": [
    "## Lab 1 - Bài 1"
   ]
  },
  {
   "cell_type": "code",
   "execution_count": 1,
   "id": "001e0507",
   "metadata": {},
   "outputs": [
    {
     "name": "stdout",
     "output_type": "stream",
     "text": [
      "Xin chào!\n",
      "Tôi tên là Nguyễn Phan Hoàng Tùng.\n",
      "Tôi đến từ Tây Ninh.\n"
     ]
    }
   ],
   "source": [
    "print(\"Xin chào!\")\n",
    "print(\"Tôi tên là Nguyễn Phan Hoàng Tùng.\")\n",
    "print(\"Tôi đến từ Tây Ninh.\")"
   ]
  },
  {
   "cell_type": "markdown",
   "id": "c0835310",
   "metadata": {},
   "source": [
    "## Lab 1 - Bài 2"
   ]
  },
  {
   "cell_type": "code",
   "execution_count": 2,
   "id": "fa9cb39f",
   "metadata": {},
   "outputs": [
    {
     "name": "stdout",
     "output_type": "stream",
     "text": [
      "Diện tích hình chữ nhật là: 4.0\n",
      "Chu vi hình chữ nhật là: 8.0\n"
     ]
    }
   ],
   "source": [
    "Chieu_dai = float(input(\"Nhập chiều dài hình chữ nhật: \"))\n",
    "Chieu_rong = float(input(\"Nhập chiều rộng hình chữ nhật: \"))\n",
    "Dien_tich = Chieu_dai * Chieu_rong\n",
    "Chu_vi = (Chieu_dai + Chieu_rong) * 2\n",
    "print(\"Diện tích hình chữ nhật là:\", Dien_tich)\n",
    "print(\"Chu vi hình chữ nhật là:\", Chu_vi)\n"
   ]
  },
  {
   "cell_type": "markdown",
   "id": "0f2483fe",
   "metadata": {},
   "source": [
    "## Lab 1 - Bài 3"
   ]
  },
  {
   "cell_type": "code",
   "execution_count": null,
   "id": "7034990b",
   "metadata": {},
   "outputs": [
    {
     "name": "stdout",
     "output_type": "stream",
     "text": [
      "\"...\n",
      "Sống không giận, không hờn không oán trách\n",
      "Sống mỉm cười, với thử thách chông gai\n",
      "Sống vươn lên, theo kịp ánh mai\n",
      "Sống chan hòa, với những người chung sống\n",
      "\n",
      "Sống là động, nhưng lòng luôn bất động\n",
      "Sống là thương, nhưng lòng chẳng vấn vương\n",
      "Sống yên vui, danh lợi mãi coi thường\n",
      "Tâm bất biến, giữ dòng đời vạn biến\n",
      "...\"\n"
     ]
    }
   ],
   "source": [
    "s = \"Sống\"\n",
    "print('\"...')\n",
    "print(s,\"không giận, không hờn không oán trách\")\n",
    "print(s,\"mỉm cười, với thử thách chông gai\")\n",
    "print(s,\"vươn lên, theo kịp ánh mai\")\n",
    "print(s,\"chan hòa, với những người chung sống\")\n",
    "print( )\n",
    "print(s,\"là động, nhưng lòng luôn bất động\")\n",
    "print(s,\"là thương, nhưng lòng chẳng vấn vương\")\n",
    "print(s,\"yên vui, danh lợi mãi coi thường\")\n",
    "print(\"Tâm bất biến, giữ dòng đời vạn biến.\")\n",
    "print('...\"')       "
   ]
  },
  {
   "cell_type": "markdown",
   "id": "d36ea3d3",
   "metadata": {},
   "source": [
    "## Lab 1 - Bài 4"
   ]
  },
  {
   "cell_type": "code",
   "execution_count": 18,
   "id": "4c707ec1",
   "metadata": {},
   "outputs": [
    {
     "name": "stdout",
     "output_type": "stream",
     "text": [
      "Nhập số a để tính căn bậc hai và delta:\n",
      "Nhập số b để tính căn bậc hai và delta:\n",
      "Nhập số c để tính căn bậc hai và delta:\n",
      "Delta = -47.0\n",
      "Delta âm, không có căn bậc hai.\n"
     ]
    }
   ],
   "source": [
    "import math\n",
    "print(\"Nhập số a để tính căn bậc hai và delta:\")\n",
    "a = float(input(\"Nhập số a để tính: \"))\n",
    "print(\"Nhập số b để tính căn bậc hai và delta:\")\n",
    "b = float(input(\"Nhập số b để tính: \"))\n",
    "print(\"Nhập số c để tính căn bậc hai và delta:\")\n",
    "c = float(input(\"Nhập số c để tính: \"))\n",
    "delta = b*b - 4*a*c\n",
    "print(\"Delta =\", delta)\n",
    "if delta > 0 :\n",
    "    can_bac_hai = math.sqrt(delta)\n",
    "    print(\"Căn bậc hai của delta là:\", can_bac_hai)\n",
    "elif delta < 0 :\n",
    "        print(\"Delta âm, không có căn bậc hai.\")"
   ]
  },
  {
   "cell_type": "markdown",
   "id": "e2b41d4a",
   "metadata": {},
   "source": [
    "## Lab 1 - Bài 5: bài tập làm thêm"
   ]
  },
  {
   "cell_type": "code",
   "execution_count": null,
   "id": "0e0172f7",
   "metadata": {},
   "outputs": [],
   "source": [
    "# code lab 1  bài làm thêm ở đây "
   ]
  }
 ],
 "metadata": {
  "kernelspec": {
   "display_name": "Python 3",
   "language": "python",
   "name": "python3"
  },
  "language_info": {
   "codemirror_mode": {
    "name": "ipython",
    "version": 3
   },
   "file_extension": ".py",
   "mimetype": "text/x-python",
   "name": "python",
   "nbconvert_exporter": "python",
   "pygments_lexer": "ipython3",
   "version": "3.13.7"
  }
 },
 "nbformat": 4,
 "nbformat_minor": 5
}
