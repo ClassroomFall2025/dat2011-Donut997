{
 "cells": [
  {
   "cell_type": "markdown",
   "id": "fdeff819",
   "metadata": {},
   "source": [
    "# Sinh Viên thực hiện Lab 1 ở Đây"
   ]
  },
  {
   "cell_type": "markdown",
   "id": "acc5d7dc",
   "metadata": {},
   "source": [
    "## Lab 1 - Bài 1"
   ]
  },
  {
   "cell_type": "code",
   "execution_count": 1,
   "id": "001e0507",
   "metadata": {},
   "outputs": [
    {
     "name": "stdout",
     "output_type": "stream",
     "text": [
      "Xin chào!\n",
      "Tôi tên là Nguyễn Phan Hoàng Tùng.\n",
      "Tôi đến từ Tây Ninh.\n"
     ]
    }
   ],
   "source": [
    "print(\"Xin chào!\")\n",
    "print(\"Tôi tên là Nguyễn Phan Hoàng Tùng.\")\n",
    "print(\"Tôi đến từ Tây Ninh.\")"
   ]
  },
  {
   "cell_type": "markdown",
   "id": "c0835310",
   "metadata": {},
   "source": [
    "## Lab 1 - Bài 2"
   ]
  },
  {
   "cell_type": "code",
   "execution_count": 2,
   "id": "fa9cb39f",
   "metadata": {},
   "outputs": [
    {
     "name": "stdout",
     "output_type": "stream",
     "text": [
      "Diện tích hình chữ nhật là: 4.0\n",
      "Chu vi hình chữ nhật là: 8.0\n"
     ]
    }
   ],
   "source": [
    "Chieu_dai = float(input(\"Nhập chiều dài hình chữ nhật: \"))\n",
    "Chieu_rong = float(input(\"Nhập chiều rộng hình chữ nhật: \"))\n",
    "Dien_tich = Chieu_dai * Chieu_rong\n",
    "Chu_vi = (Chieu_dai + Chieu_rong) * 2\n",
    "print(\"Diện tích hình chữ nhật là:\", Dien_tich)\n",
    "print(\"Chu vi hình chữ nhật là:\", Chu_vi)\n"
   ]
  },
  {
   "cell_type": "markdown",
   "id": "0f2483fe",
   "metadata": {},
   "source": [
    "## Lab 1 - Bài 3"
   ]
  },
  {
   "cell_type": "code",
   "execution_count": null,
   "id": "7034990b",
   "metadata": {},
   "outputs": [
    {
     "name": "stdout",
     "output_type": "stream",
     "text": [
      "\"...\n",
      "Sống không giận, không hờn không oán trách\n",
      "Sống mỉm cười, với thử thách chông gai\n",
      "Sống vươn lên, theo kịp ánh mai\n",
      "Sống chan hòa, với những người chung sống\n",
      "\n",
      "Sống là động, nhưng lòng luôn bất động\n",
      "Sống là thương, nhưng lòng chẳng vấn vương\n",
      "Sống yên vui, danh lợi mãi coi thường\n",
      "Tâm bất biến, giữ dòng đời vạn biến\n",
      "...\"\n"
     ]
    }
   ],
   "source": [
    "s = \"Sống\"\n",
    "print('\"...')\n",
    "print(s,\"không giận, không hờn không oán trách\")\n",
    "print(s,\"mỉm cười, với thử thách chông gai\")\n",
    "print(s,\"vươn lên, theo kịp ánh mai\")\n",
    "print(s,\"chan hòa, với những người chung sống\")\n",
    "print( )\n",
    "print(s,\"là động, nhưng lòng luôn bất động\")\n",
    "print(s,\"là thương, nhưng lòng chẳng vấn vương\")\n",
    "print(s,\"yên vui, danh lợi mãi coi thường\")\n",
    "print(\"Tâm bất biến, giữ dòng đời vạn biến.\")\n",
    "print('...\"')       "
   ]
  },
  {
   "cell_type": "markdown",
   "id": "d36ea3d3",
   "metadata": {},
   "source": [
    "## Lab 1 - Bài 4"
   ]
  },
  {
   "cell_type": "code",
   "execution_count": 2,
   "id": "4c707ec1",
   "metadata": {},
   "outputs": [
    {
     "name": "stdout",
     "output_type": "stream",
     "text": [
      "Nhập số a để tính căn bậc hai và delta:\n",
      "Nhập số b để tính căn bậc hai và delta:\n",
      "Nhập số c để tính căn bậc hai và delta:\n",
      "Delta = 12.0\n",
      "Căn bậc hai của delta = 3.4641016151377544\n"
     ]
    }
   ],
   "source": [
    "import math\n",
    "print(\"Nhập số a để tính căn bậc hai và delta:\")\n",
    "a = float(input(\"Nhập số a để tính: \"))\n",
    "print(\"Nhập số b để tính căn bậc hai và delta:\")\n",
    "b = float(input(\"Nhập số b để tính: \"))\n",
    "print(\"Nhập số c để tính căn bậc hai và delta:\")\n",
    "c = float(input(\"Nhập số c để tính: \"))\n",
    "delta = b*b - 4*a*c\n",
    "print(\"Delta =\", abs(delta))\n",
    "print(\"Căn bậc hai của delta =\", math.sqrt(abs(delta)))\n"
   ]
  },
  {
   "cell_type": "markdown",
   "id": "e2b41d4a",
   "metadata": {},
   "source": [
    "## Lab 1 - Bài 5: bài tập làm thêm"
   ]
  },
  {
   "cell_type": "code",
   "execution_count": null,
   "id": "0e0172f7",
   "metadata": {},
   "outputs": [
    {
     "name": "stdout",
     "output_type": "stream",
     "text": [
      "Nhập a để tính logarit\n",
      "Nhập b để tính logarit cơ số tùy chọn\n",
      "5. Tính logarit cơ số 10, ln, log cơ số tùy chọn\n",
      "log cơ số 3.0 của a = 0.6309297535714574\n",
      "log10(a) = 0.3010299956639812\n",
      "ln(a) = 0.6931471805599453\n"
     ]
    }
   ],
   "source": [
    "import math\n",
    "print(\"Nhập số a để tính:\")\n",
    "a = float(input(\"Nhập số a để tính: \"))\n",
    "print(\"Nhập số b để tính:\")\n",
    "b = float(input(\"Nhập số b để tính: \"))\n",
    "print(\"1. Phép tính cơ bản  (+,-,*,/)\")\n",
    "cong = a + b\n",
    "tru = a - b\n",
    "nhan = a * b\n",
    "chia = a / b\n",
    "print(\"a + b =\", cong)\n",
    "print(\"a - b =\", tru)\n",
    "print(\"a * b =\", nhan)\n",
    "print(\"a / b =\", chia)\n",
    "print(\"Nhập X để tính lũy thừa\")\n",
    "x = float(input(\"Nhập số x để tính lũy thừa: \"))\n",
    "print(\"Nhập Y để tính lũy thừa\")\n",
    "y = float(input(\"Nhập số y để tính lũy thừa: \"))\n",
    "print(\"2. Tính lũy thừa x^y\")\n",
    "luy_thua = a ** b\n",
    "print(\"x^y =\", luy_thua)\n",
    "print(\"Nhập X để tính căn bậc hai\")\n",
    "x = float(input(\"Nhập số x để tính căn bậc hai: \"))\n",
    "print(\"3. Tính căn bậc hai\")\n",
    "can_bac_hai = math.sqrt(x)\n",
    "print(\"Căn bậc hai của x =\", can_bac_hai)\n",
    "print(\"Nhập a để tính hàm lượng giác\")\n",
    "a = float(input(\"Nhập số a để tính hàm lượng giác: \"))\n",
    "print(\"4. Tính hàm lượng giác sin, cos, tan\")\n",
    "sin_a = math.sin(a)\n",
    "cos_a = math.cos(a)\n",
    "tan_a = math.tan(a)\n",
    "print(\"sin(a) =\", sin_a)\n",
    "print(\"cos(a) =\", cos_a)\n",
    "print(\"tan(a) =\", tan_a)\n",
    "print(\"Nhập a để tính logarit\")\n",
    "a = float(input(\"Nhập số a để tính logarit: \"))\n",
    "print(\"Nhập b để tính logarit cơ số tùy chọn\")\n",
    "b = float(input(\"Nhập số b để tính logarit cơ số tùy chọn: \"))\n",
    "print(\"5. Tính logarit cơ số 10, ln, log cơ số tùy chọn\")\n",
    "log10_a = math.log10(a)\n",
    "ln_a = math.log(a)\n",
    "logb_a = math.log(a, b)\n",
    "print(\"log cơ số\", b, \"của a =\", logb_a)\n",
    "print(\"log10(a) =\", log10_a)\n",
    "print(\"ln(a) =\", ln_a)\n",
    "\n",
    "\n"
   ]
  }
 ],
 "metadata": {
  "kernelspec": {
   "display_name": "Python 3",
   "language": "python",
   "name": "python3"
  },
  "language_info": {
   "codemirror_mode": {
    "name": "ipython",
    "version": 3
   },
   "file_extension": ".py",
   "mimetype": "text/x-python",
   "name": "python",
   "nbconvert_exporter": "python",
   "pygments_lexer": "ipython3",
   "version": "3.13.7"
  }
 },
 "nbformat": 4,
 "nbformat_minor": 5
}
