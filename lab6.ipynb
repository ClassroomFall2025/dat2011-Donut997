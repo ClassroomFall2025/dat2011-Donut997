{
 "cells": [
  {
   "cell_type": "markdown",
   "id": "fdeff819",
   "metadata": {},
   "source": [
    "# Sinh Viên thực hiện Lab 6 ở Đây"
   ]
  },
  {
   "cell_type": "markdown",
   "id": "acc5d7dc",
   "metadata": {},
   "source": [
    "## Lab 6 - Bài 1"
   ]
  },
  {
   "cell_type": "code",
   "execution_count": 2,
   "id": "001e0507",
   "metadata": {},
   "outputs": [
    {
     "name": "stdout",
     "output_type": "stream",
     "text": [
      "Chọn chức năng bạn muốn sử dụng:\n",
      "        1. Tính chu vi diện tích hình chữ nhật.\n",
      "        2. tính chu vi diện tích hình vuông.\n",
      "        3. thoát\n",
      "        \n",
      "nhập cạnh để tính toán thông số vuông\n",
      "Kết quả:  Canh=12.0 | Dien tich=144.0 | Chu vi=48.0\n",
      "Chọn chức năng bạn muốn sử dụng:\n",
      "        1. Tính chu vi diện tích hình chữ nhật.\n",
      "        2. tính chu vi diện tích hình vuông.\n",
      "        3. thoát\n",
      "        \n",
      "Bạn đã chọn thoát chương trình\n"
     ]
    }
   ],
   "source": [
    "# Code lab 6 bài 1 ở đây\n",
    "from lab6_def_hinh import chunhat,vuong\n",
    "\n",
    "while True:\n",
    "    print(\"\"\"Chọn chức năng bạn muốn sử dụng:\n",
    "        1. Tính chu vi diện tích hình chữ nhật.\n",
    "        2. tính chu vi diện tích hình vuông.\n",
    "        3. thoát\n",
    "        \"\"\")\n",
    "    chon = input(\"Chọn chức năng:\")\n",
    "    \n",
    "    if chon == '1':\n",
    "        print(\"Nhập chiều dài và chiều rộng để tính thông số hình chữ nhật\")\n",
    "        hcn = chunhat(0,0)\n",
    "        hcn.nhap_thong_so()\n",
    "        print(\"Kết quả:\", hcn)\n",
    "    elif chon == '2':\n",
    "        print(\"nhập cạnh để tính toán thông số vuông\")\n",
    "        hv = vuong(0)\n",
    "        hv.nhap_thong_so()\n",
    "        print(\"Kết quả: \", hv)\n",
    "    elif chon == '3':\n",
    "        print (\"Bạn đã chọn thoát chương trình\")\n",
    "        break\n",
    "    else:\n",
    "        print (\"Không nhận diện được kí tự vui lòng nhập lại từ 1 đến 3\")\n",
    "\n"
   ]
  },
  {
   "cell_type": "markdown",
   "id": "c0835310",
   "metadata": {},
   "source": [
    "## Lab 6 - Bài 2"
   ]
  },
  {
   "cell_type": "code",
   "execution_count": null,
   "id": "fa9cb39f",
   "metadata": {},
   "outputs": [],
   "source": [
    "# Code lab 6  bài 2 ở đây"
   ]
  },
  {
   "cell_type": "markdown",
   "id": "0f2483fe",
   "metadata": {},
   "source": [
    "## Lab 6 - Bài 3"
   ]
  },
  {
   "cell_type": "code",
   "execution_count": null,
   "id": "7034990b",
   "metadata": {},
   "outputs": [],
   "source": [
    "# Code lab 6  bài 3 ở đây"
   ]
  },
  {
   "cell_type": "markdown",
   "id": "d36ea3d3",
   "metadata": {},
   "source": [
    "## Lab 6 - Bài 4"
   ]
  },
  {
   "cell_type": "code",
   "execution_count": 1,
   "id": "4c707ec1",
   "metadata": {},
   "outputs": [
    {
     "name": "stdout",
     "output_type": "stream",
     "text": [
      "--- GIAI ĐOẠN NHẬP LIỆU ---\n",
      "Nhập thông tin sinh viên, gõ 'q' ở phần nhập tên để kết thúc.\n",
      "Kết thúc nhập liệu.\n",
      "\n",
      "1. Danh sách sinh viên vừa nhập:\n",
      "Tên: 1, Ngành: Biz, Điểm: 13.33, Học lực: Xuất sắc\n",
      "Tên: 112, Ngành: IT, Điểm: 1.25, Học lực: Yếu\n",
      "\n",
      "2. Danh sách sinh viên học lực Giỏi:\n",
      "  (Không có sinh viên nào loại Giỏi)\n",
      "\n",
      "3. Danh sách sau khi sắp xếp theo điểm giảm dần:\n",
      "Tên: 1, Ngành: Biz, Điểm: 13.33, Học lực: Xuất sắc\n",
      "Tên: 112, Ngành: IT, Điểm: 1.25, Học lực: Yếu\n",
      "\n",
      "HOÀN THÀNH\n"
     ]
    }
   ],
   "source": [
    "from sinhvien import SinhVienIT, SinhVienBiz\n",
    "\n",
    "danh_sach_sv = []\n",
    "\n",
    "print(\"--- GIAI ĐOẠN NHẬP LIỆU ---\")\n",
    "print(\"Nhập thông tin sinh viên, gõ 'q' ở phần nhập tên để kết thúc.\")\n",
    "\n",
    "while True:\n",
    "    ten = input(\"Nhập tên sinh viên: \")\n",
    "    if ten.lower() == 'q':\n",
    "        print(\"Kết thúc nhập liệu.\")\n",
    "        break\n",
    "\n",
    "    while True:\n",
    "        nganh = input(\"Chọn ngành (1: IT, 2: Biz): \")\n",
    "        try:\n",
    "            if nganh == '1':\n",
    "                java = float(input(\"  - Điểm Java: \"))\n",
    "                html = float(input(\"  - Điểm HTML: \"))\n",
    "                css = float(input(\"  - Điểm CSS: \"))\n",
    "                sv = SinhVienIT(ten, java, html, css) \n",
    "                danh_sach_sv.append(sv)\n",
    "                break \n",
    "            elif nganh == '2':\n",
    "                mkt = float(input(\"  - Điểm Marketing: \"))\n",
    "                sales = float(input(\"  - Điểm Sales: \"))\n",
    "                sv = SinhVienBiz(ten, mkt, sales) \n",
    "                danh_sach_sv.append(sv)\n",
    "                break\n",
    "            else:\n",
    "                print(\"Lựa chọn không hợp lệ, vui lòng nhập 1 hoặc 2.\")\n",
    "        except ValueError:\n",
    "            print(\"Lỗi: Vui lòng nhập điểm là một con số.\")\n",
    "\n",
    "\n",
    "if not danh_sach_sv:\n",
    "    print(\"Danh sách sinh viên trống.\")\n",
    "else:\n",
    "    print(\"\\n1. Danh sách sinh viên vừa nhập:\")\n",
    "    for sv in danh_sach_sv:\n",
    "        sv.xuat()\n",
    "    print(\"\\n2. Danh sách sinh viên học lực Giỏi:\")\n",
    "    ds_gioi = [sv for sv in danh_sach_sv if sv.get_hoc_luc() == \"Giỏi\"]\n",
    "    if not ds_gioi:\n",
    "        print(\"  (Không có sinh viên nào loại Giỏi)\")\n",
    "    else:\n",
    "        for sv in ds_gioi:\n",
    "            sv.xuat()\n",
    "    print(\"\\n3. Danh sách sau khi sắp xếp theo điểm giảm dần:\")\n",
    "    danh_sach_sv.sort(key=lambda sv: sv.get_diem(), reverse=True)\n",
    "    for sv in danh_sach_sv:\n",
    "        sv.xuat()\n",
    "\n",
    "print(\"\\nHOÀN THÀNH\")"
   ]
  },
  {
   "cell_type": "markdown",
   "id": "e2b41d4a",
   "metadata": {},
   "source": [
    "## Lab 6 - Bài 5: bài tập làm thêm"
   ]
  },
  {
   "cell_type": "code",
   "execution_count": null,
   "id": "0e0172f7",
   "metadata": {},
   "outputs": [],
   "source": [
    "# code lab 6  bài làm thêm ở đây "
   ]
  }
 ],
 "metadata": {
  "kernelspec": {
   "display_name": "Python 3",
   "language": "python",
   "name": "python3"
  },
  "language_info": {
   "codemirror_mode": {
    "name": "ipython",
    "version": 3
   },
   "file_extension": ".py",
   "mimetype": "text/x-python",
   "name": "python",
   "nbconvert_exporter": "python",
   "pygments_lexer": "ipython3",
   "version": "3.13.7"
  }
 },
 "nbformat": 4,
 "nbformat_minor": 5
}
