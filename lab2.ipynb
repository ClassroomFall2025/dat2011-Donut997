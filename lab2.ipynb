{
 "cells": [
  {
   "cell_type": "markdown",
   "id": "fdeff819",
   "metadata": {},
   "source": [
    "# Sinh Viên thực hiện Lab 2 ở Đây"
   ]
  },
  {
   "cell_type": "markdown",
   "id": "acc5d7dc",
   "metadata": {},
   "source": [
    "## Lab 2 - Bài 1"
   ]
  },
  {
   "cell_type": "code",
   "execution_count": 4,
   "id": "001e0507",
   "metadata": {},
   "outputs": [
    {
     "name": "stdout",
     "output_type": "stream",
     "text": [
      "Kiếp con người mong manh như là gió \n",
      "sống trên đời được mấy lần vui\n",
      "Sao phải đau mà không thể mỉm cười \n",
      "Gắng buông nỗi ngậm ngùi nơi quá khứ\n",
      "\n",
      "Nếu có thể sao ta không làm thử\n",
      "Để tâm hồn khắc hai chữ bình an\n",
      "Cho đôi chân bước thanh thản nhẹ nhàng\n",
      "Dù hướng đời có muôn ngàn đá sỏi\n",
      "Từ cần tìm có trong bài thơ không?  True\n",
      "Vị trí của từ cần tìm trong bài thơ:  5\n",
      "trích xuất chuỗi:  con người\n",
      "Từ trích xuất được in hoa:  CON NGƯỜI\n"
     ]
    }
   ],
   "source": [
    "bai_tho = '''Kiếp con người mong manh như là gió \n",
    "sống trên đời được mấy lần vui\n",
    "Sao phải đau mà không thể mỉm cười \n",
    "Gắng buông nỗi ngậm ngùi nơi quá khứ\n",
    "\n",
    "Nếu có thể sao ta không làm thử\n",
    "Để tâm hồn khắc hai chữ bình an\n",
    "Cho đôi chân bước thanh thản nhẹ nhàng\n",
    "Dù hướng đời có muôn ngàn đá sỏi'''\n",
    "# print(bai_tho)\n",
    "# check = \"con người\" in bai_tho\n",
    "# print(\"\\nKiếp con người có trong bài thơ không? \", check)\n",
    "# find = bai_tho.find(\"con người\")\n",
    "# print(\"\\nVị trí của chuỗi 'con người' trong bài thơ: \", find)\n",
    "# index = len(\"con người\") + find - 1\n",
    "# trich_xuat = bai_tho[find:len(\"con người\")+find]\n",
    "# print(\"\\nTrích xuất chuỗi: \", trich_xuat)\n",
    "# print(\"\\nTừ trích xuất được in hoa: \", trich_xuat.upper())\n",
    "#------------------------------------------------------------------------------\n",
    "print(bai_tho) \n",
    "tu_tim_kiem = input(\"\\nNhập từ cần tìm trong bài thơ: \" )\n",
    "check = tu_tim_kiem in bai_tho\n",
    "print(\"\\nTừ cần tìm có trong bài thơ không? \", check)\n",
    "find = bai_tho.find(tu_tim_kiem)\n",
    "print(\"\\nVị trí của từ cần tìm trong bài thơ: \", find)\n",
    "len_tu = len(tu_tim_kiem)\n",
    "index = len_tu + find\n",
    "print(\"\\nTrích xuất chuỗi: \", bai_tho[find:index])\n",
    "print(\"\\nTừ trích xuất được in hoa: \", bai_tho[find:index].upper()) \n",
    "\n"
   ]
  },
  {
   "cell_type": "markdown",
   "id": "c0835310",
   "metadata": {},
   "source": [
    "## Lab 2 - Bài 2"
   ]
  },
  {
   "cell_type": "code",
   "execution_count": 16,
   "id": "fa9cb39f",
   "metadata": {},
   "outputs": [
    {
     "name": "stdout",
     "output_type": "stream",
     "text": [
      "Kiếp con người mong manh như là gió \n",
      "sống trên đời được mấy lần vui\n",
      "Sao phải đau mà không thể mỉm cười \n",
      "Gắng buông nỗi ngậm ngùi nơi quá khứ\n",
      "\n",
      "Nếu có thể sao ta không làm thử\n",
      "Để tâm hồn khắc hai chữ bình an\n",
      "Cho đôi chân bước thanh thản nhẹ nhàng\n",
      "Dù hướng đời có muôn ngàn đá sỏi\n",
      "\n",
      "Vị trí của từ cần tìm trong bài thơ:  170\n",
      "\n",
      "Bài thơ sau khi thay thế:\n",
      " ...\n",
      "Kiếp con người mong manh như là gió \n",
      "sống trên đời được mấy lần vui\n",
      "Sao phải đau mà không thể mỉm cười \n",
      "Gắng buông nỗi ngậm ngùi nơi quá khứ\n",
      "\n",
      "Nếu có thể sao ta không làm xử\n",
      "Để tâm hồn khắc hai chữ bình an\n",
      "Cho đôi chân bước thanh thản nhẹ nhàng\n",
      "Dù hướng đời có muôn ngàn đá sỏi\n",
      " ...\n"
     ]
    }
   ],
   "source": [
    "bai_tho = '''Kiếp con người mong manh như là gió \n",
    "sống trên đời được mấy lần vui\n",
    "Sao phải đau mà không thể mỉm cười \n",
    "Gắng buông nỗi ngậm ngùi nơi quá khứ\n",
    "\n",
    "Nếu có thể sao ta không làm thử\n",
    "Để tâm hồn khắc hai chữ bình an\n",
    "Cho đôi chân bước thanh thản nhẹ nhàng\n",
    "Dù hướng đời có muôn ngàn đá sỏi'''\n",
    "# print(bai_tho)\n",
    "# find = bai_tho.find(\"bình an\")\n",
    "# print(\"\\nVị trí của chuỗi 'bình an' trong bài thơ: \", find)\n",
    "# change = bai_tho.replace(\"bình an\", \"hạnh phúc\")\n",
    "# change_2 =\"...\\n\" + change + \"\\n ...\"\n",
    "# print(\"\\nBài thơ sau khi thay thế:\\n\", change_2)\n",
    "#------------------------------------------------------------------------------\n",
    "print(bai_tho)\n",
    "tu_tim_kiem = input(\"\\nNhập từ cần tìm trong bài thơ: \" )\n",
    "find = bai_tho.find(tu_tim_kiem)\n",
    "print(\"\\nVị trí của từ cần tìm trong bài thơ: \", find)\n",
    "tu_thay_the = input(\"Nhập từ thay thế: \")\n",
    "change = bai_tho.replace(tu_tim_kiem, tu_thay_the)  \n",
    "change_2 =\"...\\n\" + change + \"\\n ...\"\n",
    "print(\"\\nBài thơ sau khi thay thế:\\n\", change_2)"
   ]
  },
  {
   "cell_type": "markdown",
   "id": "0f2483fe",
   "metadata": {},
   "source": [
    "## Lab 2 - Bài 3"
   ]
  },
  {
   "cell_type": "code",
   "execution_count": 17,
   "id": "7034990b",
   "metadata": {},
   "outputs": [
    {
     "name": "stdout",
     "output_type": "stream",
     "text": [
      "Phương trình có nghiệm là:  -2.0\n"
     ]
    }
   ],
   "source": [
    "so_a = float(input(\"Nhập số a để giải phương trình bật nhất: \"))\n",
    "so_b = float(input(\"Nhập số b để giải phương trình bật nhất: \"))\n",
    "if so_a == 0:\n",
    "    if so_b == 0:\n",
    "        print(\"Phương trình vô số nghiệm\")\n",
    "    else:\n",
    "        print(\"Phương trình vô nghiệm\")\n",
    "else:\n",
    "    nghiem = -so_b/so_a\n",
    "    print(\"Phương trình có nghiệm là: \", nghiem)"
   ]
  },
  {
   "cell_type": "markdown",
   "id": "d36ea3d3",
   "metadata": {},
   "source": [
    "## Lab 2 - Bài 4"
   ]
  },
  {
   "cell_type": "code",
   "execution_count": null,
   "id": "4c707ec1",
   "metadata": {},
   "outputs": [
    {
     "name": "stdout",
     "output_type": "stream",
     "text": [
      "\n",
      "Giải phương trình căn bậc 2: ax^2 + bx + c = 0\n",
      "Phương trình vô nghiệm\n"
     ]
    }
   ],
   "source": [
    "import math\n",
    "print(\"\\nGiải phương trình căn bậc 2: ax^2 + bx + c = 0\")\n",
    "so_a = float(input(\"Nhập số a để giải phương trình căn bậc 2: \"))\n",
    "so_b = float(input(\"Nhập số b để giải phương trình căn bậc 2: \"))\n",
    "so_c = float(input(\"Nhập số c để giải phương trình căn bậc 2: \"))\n",
    "if so_a == 0:\n",
    "    print(\"Giai phương trình bậc nhất\")\n",
    "    if so_b == 0:\n",
    "        if so_c == 0:\n",
    "            print(\"Phương trình vô số nghiệm\")\n",
    "        else:\n",
    "            print(\"Phương trình vô nghiệm\")\n",
    "    else:\n",
    "        nghiem = -so_c/so_b\n",
    "        print(\"Phương trình có nghiệm là: \", nghiem)\n",
    "else:\n",
    "    delta = so_b**2 - 4*so_a*so_c\n",
    "    if delta < 0:\n",
    "        print(\"Phương trình vô nghiệm\")\n",
    "    elif delta == 0:\n",
    "        nghiem_kep = -so_b/(2*so_a)\n",
    "        print(\"Phương trình có nghiệm kép: \", nghiem_kep)\n",
    "    else:\n",
    "        nghiem_1 = (-so_b + math.sqrt(delta))/(2*so_a)\n",
    "        nghiem_2 = (-so_b - math.sqrt(delta))/(2*so_a)\n",
    "        print(\"Phương trình có hai nghiệm phân biệt: \")\n",
    "        print(\"Nghiệm thứ nhất: \", nghiem_1)\n",
    "        print(\"Nghiệm thứ hai: \", nghiem_2)\n"
   ]
  },
  {
   "cell_type": "markdown",
   "id": "e2b41d4a",
   "metadata": {},
   "source": [
    "## Lab 2 - Bài 5: bài tập làm thêm"
   ]
  },
  {
   "cell_type": "code",
   "execution_count": 28,
   "id": "0e0172f7",
   "metadata": {},
   "outputs": [
    {
     "name": "stdout",
     "output_type": "stream",
     "text": [
      "Nhập 3 số bất kì để tìm số lớn nhất trong 3 số đó\n",
      "Số lớn nhất là:  3\n"
     ]
    }
   ],
   "source": [
    "print(\"Nhập 3 số bất kì để tìm số lớn nhất trong 3 số đó\")\n",
    "so_1 = int(input(\"Nhập số thứ nhất: \"))\n",
    "so_2 = int(input(\"Nhập số thứ hai: \"))\n",
    "so_3 = int(input(\"Nhập số thứ ba: \"))\n",
    "if so_1 >= so_2 and so_1 >= so_3:\n",
    "    print(\"Số lớn nhất là: \", so_1)\n",
    "elif so_2 >= so_1 and so_2 >= so_3:\n",
    "    print(\"Số lớn nhất là: \", so_2)\n",
    "else:\n",
    "    print(\"Số lớn nhất là: \", so_3)"
   ]
  }
 ],
 "metadata": {
  "kernelspec": {
   "display_name": "Python 3",
   "language": "python",
   "name": "python3"
  },
  "language_info": {
   "codemirror_mode": {
    "name": "ipython",
    "version": 3
   },
   "file_extension": ".py",
   "mimetype": "text/x-python",
   "name": "python",
   "nbconvert_exporter": "python",
   "pygments_lexer": "ipython3",
   "version": "3.13.7"
  }
 },
 "nbformat": 4,
 "nbformat_minor": 5
}
