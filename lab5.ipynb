{
 "cells": [
  {
   "cell_type": "markdown",
   "id": "fdeff819",
   "metadata": {},
   "source": [
    "# Sinh Viên thực hiện Lab 5 ở Đây"
   ]
  },
  {
   "cell_type": "markdown",
   "id": "acc5d7dc",
   "metadata": {},
   "source": [
    "## Lab 5 - Bài 1"
   ]
  },
  {
   "cell_type": "code",
   "execution_count": null,
   "id": "001e0507",
   "metadata": {},
   "outputs": [
    {
     "name": "stdout",
     "output_type": "stream",
     "text": [
      "<__main__.sanpham object at 0x0000024AFDF74590>\n",
      "Sản phẩm: beer có giá 20000 được giảm 1000 và phải đóng 2000.0 thuế nhập khẩu\n"
     ]
    }
   ],
   "source": [
    "\n",
    "class sanpham:\n",
    "    def __init__(self, ten_sp, gia, giam_gia):\n",
    "        self.ten_sp = ten_sp\n",
    "        self.gia = gia\n",
    "        self.__giam_gia = giam_gia\n",
    "        \n",
    "    def doc_giam_gia(self):\n",
    "        return self.__giam_gia\n",
    "    \n",
    "    def ghi_giam_gia(self, giam_gia_moi):\n",
    "        self.__giam_gia = giam_gia_moi\n",
    "        \n",
    "    def thue_nk(self):\n",
    "        return self.gia * 0.1\n",
    "    \n",
    "    def xuat_tt_sp(self):\n",
    "        print(f\"San pham: {self.ten_sp} co gia {self.gia} duoc giam {self.__giam_gia} va phai dong {self.thue_nk()} thue nhap khau\")\n",
    "    def __str__(self):\n",
    "        return f\"San pham: {self.ten_sp} co gia {self.gia} duoc giam {self.__giam_gia} va phai dong {self.thue_nk()} thue nhap khau\"\n",
    "    "
   ]
  },
  {
   "cell_type": "markdown",
   "id": "c0835310",
   "metadata": {},
   "source": [
    "## Lab 5 - Bài 2"
   ]
  },
  {
   "cell_type": "code",
   "execution_count": 4,
   "id": "fa9cb39f",
   "metadata": {},
   "outputs": [
    {
     "name": "stdout",
     "output_type": "stream",
     "text": [
      "San pham: a co gia 2.0 duoc giam 3.0 va phai dong 0.2 thue nhap khau\n",
      "San pham: bb co gia 3.0 duoc giam 4.0 va phai dong 0.30000000000000004 thue nhap khau\n"
     ]
    }
   ],
   "source": [
    "# Code lab 5 \n",
    "from lab5_def import *\n",
    "\n",
    "sp1 = sanpham(\"\",\"\",\"\")\n",
    "sp2 = sanpham(\"\",\"\",\"\")\n",
    "sp1.nhap_san_pham()\n",
    "sp1.xuat_tt_sp()\n",
    "sp2.nhap_san_pham()\n",
    "sp2.xuat_tt_sp()\n"
   ]
  },
  {
   "cell_type": "markdown",
   "id": "0f2483fe",
   "metadata": {},
   "source": [
    "## Lab 5 - Bài 3"
   ]
  },
  {
   "cell_type": "code",
   "execution_count": null,
   "id": "7034990b",
   "metadata": {},
   "outputs": [],
   "source": [
    "# Code lab 5  bài 3 ở đây"
   ]
  },
  {
   "cell_type": "markdown",
   "id": "d36ea3d3",
   "metadata": {},
   "source": [
    "## Lab 5 - Bài 4"
   ]
  },
  {
   "cell_type": "code",
   "execution_count": 2,
   "id": "4c707ec1",
   "metadata": {},
   "outputs": [
    {
     "name": "stdout",
     "output_type": "stream",
     "text": [
      "----nhập sản phẩm 1--- \n",
      "---nhập sản phẩm 2---\n",
      "--thông tin sản phẩm 1--\n",
      "San pham: 1 co gia 1.0 duoc giam 1.0 va phai dong 0.1 thue nhap khau\n",
      "--thông tin sản phẩm 2--\n",
      "San pham: 1 co gia 1.0 duoc giam 1.0 va phai dong 0.1 thue nhap khau\n"
     ]
    }
   ],
   "source": [
    "# code lab 5 bài 4 ở đây\n",
    "import lab5_def\n",
    "print(\"----nhập sản phẩm 1--- \")\n",
    "ten1 = input(\"nhập tên sản phẩm 1: \")\n",
    "gia1 = float(input(\"nhập giá sản phẩm 1: \"))\n",
    "giam1 = float(input(\"nhập giảm giá sản phẩm 1: \"))\n",
    "\n",
    "\n",
    "print(\"---nhập sản phẩm 2---\")\n",
    "ten2 = input(\"nhập tên sản phẩm 2: \")\n",
    "gia2 = float(input(\"nhập giá sản phẩm 2: \"))\n",
    "giam2 = float(input(\"nhập giảm giá sản phẩm 2: \"))\n",
    "\n",
    "\n",
    "sp1 = lab5_def.sanpham (ten1, gia1, giam1)\n",
    "sp2 = lab5_def.sanpham (ten2, gia2, giam2)\n",
    "print(\"--thông tin sản phẩm 1--\")\n",
    "sp1.xuat_tt_sp()\n",
    "print(\"--thông tin sản phẩm 2--\")\n",
    "sp2.xuat_tt_sp()"
   ]
  },
  {
   "cell_type": "markdown",
   "id": "e2b41d4a",
   "metadata": {},
   "source": [
    "## Lab 5 - Bài 5: bài tập làm thêm"
   ]
  },
  {
   "cell_type": "code",
   "execution_count": null,
   "id": "0e0172f7",
   "metadata": {},
   "outputs": [],
   "source": [
    "# code lab 5  bài làm thêm ở đây "
   ]
  }
 ],
 "metadata": {
  "kernelspec": {
   "display_name": "Python 3",
   "language": "python",
   "name": "python3"
  },
  "language_info": {
   "codemirror_mode": {
    "name": "ipython",
    "version": 3
   },
   "file_extension": ".py",
   "mimetype": "text/x-python",
   "name": "python",
   "nbconvert_exporter": "python",
   "pygments_lexer": "ipython3",
   "version": "3.13.7"
  }
 },
 "nbformat": 4,
 "nbformat_minor": 5
}
