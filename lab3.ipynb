{
 "cells": [
  {
   "cell_type": "markdown",
   "id": "fdeff819",
   "metadata": {},
   "source": [
    "# Sinh Viên thực hiện Lab 3 ở Đây"
   ]
  },
  {
   "cell_type": "markdown",
   "id": "acc5d7dc",
   "metadata": {},
   "source": [
    "## Lab 3 - Bài 1"
   ]
  },
  {
   "cell_type": "code",
   "execution_count": 1,
   "id": "001e0507",
   "metadata": {},
   "outputs": [
    {
     "name": "stdout",
     "output_type": "stream",
     "text": [
      "Danh sách số hiện tại:  [1]\n",
      "Danh sách số hiện tại:  [1, 2]\n",
      "Danh sách số hiện tại:  [1, 2, 3]\n",
      "Danh sách số hiện tại:  [1, 2, 3, 4]\n",
      "Danh sách số hiện tại:  [1, 2, 3, 4, 5]\n",
      "Danh sách số hiện tại:  [1, 2, 3, 4, 5, 2]\n",
      "Danh sách số hiện tại:  [1, 2, 3, 4, 5, 2, 2]\n",
      "Danh sách số hiện tại:  [1, 2, 3, 4, 5, 2, 2, 3]\n",
      "Danh sách số hiện tại:  [1, 2, 3, 4, 5, 2, 2, 3, 4]\n",
      "Danh sách số hiện tại:  [1, 2, 3, 4, 5, 2, 2, 3, 4, 5]\n",
      "Danh sách số hiện tại:  [1, 2, 3, 4, 5, 2, 2, 3, 4, 5, 66]\n",
      "Danh sách số hiện tại:  [1, 2, 3, 4, 5, 2, 2, 3, 4, 5, 66, 3]\n",
      "Danh sách số hiện tại:  [1, 2, 3, 4, 5, 2, 2, 3, 4, 5, 66, 3, 3]\n",
      "Kết thúc\n",
      "Danh sách số sau khi sắp xếp:  [1, 2, 2, 2, 3, 3, 3, 3, 4, 4, 5, 5, 66]\n",
      "Giá trị lớn nhất:  66\n",
      "Giá trị nhỏ nhất:  1\n",
      "Danh sách số sau khi đảo ngược:  [66, 5, 5, 4, 4, 3, 3, 3, 3, 2, 2, 2, 1]\n",
      "Số lượng số chia hết cho 3 là:  5\n",
      "Tổng các số chia hết cho 3 là:  78\n",
      "Trung bình cộng các số chia hết cho 3 là:  15.6\n",
      "Danh sách các số chia hết cho 3 là:  [66, 3, 3, 3, 3]\n"
     ]
    }
   ],
   "source": [
    "day_so = []\n",
    "day_so_chia_het_3 = []\n",
    "dem = 0\n",
    "tong = 0\n",
    "while True:\n",
    "    so = input(\"Nhập số : \")\n",
    "    if so.lower() == 'q':\n",
    "        print(\"Kết thúc\")\n",
    "        break\n",
    "    else:\n",
    "        try:\n",
    "            phan_tu = int(so)\n",
    "            day_so.append(phan_tu)\n",
    "            print(\"Danh sách số hiện tại: \", day_so)\n",
    "        except ValueError:\n",
    "            print(\"Vui lòng nhập số nguyên hoặc 'q' để thoát.\")\n",
    "day_so.sort()\n",
    "print(\"Danh sách số sau khi sắp xếp: \", day_so)\n",
    "print(\"Giá trị lớn nhất: \", day_so[-1])\n",
    "print(\"Giá trị nhỏ nhất: \", day_so[0])\n",
    "day_so.sort(reverse=True)\n",
    "print(\"Danh sách số sau khi đảo ngược: \", day_so)\n",
    "for phan_tu in day_so:\n",
    "    if phan_tu % 3 == 0:\n",
    "        dem += 1\n",
    "        tong += phan_tu\n",
    "        day_so_chia_het_3.append(phan_tu)\n",
    "print(\"Số lượng số chia hết cho 3 là: \", dem)\n",
    "print(\"Tổng các số chia hết cho 3 là: \", tong)\n",
    "if dem != 0:\n",
    "    print(\"Trung bình cộng các số chia hết cho 3 là: \", tong/dem)\n",
    "else:\n",
    "    print(\"Không có số nào chia hết cho 3.\")\n",
    "print(\"Danh sách các số chia hết cho 3 là: \", day_so_chia_het_3)\n"
   ]
  },
  {
   "cell_type": "markdown",
   "id": "c0835310",
   "metadata": {},
   "source": [
    "    ## Lab 3 - Bài 2"
   ]
  },
  {
   "cell_type": "code",
   "execution_count": 7,
   "id": "fa9cb39f",
   "metadata": {},
   "outputs": [
    {
     "name": "stdout",
     "output_type": "stream",
     "text": [
      "Vui lòng nhập thông tin sinh viên theo định dạng : Tên sinh viên, điểm sinh viên\n",
      "Kết thúc\n",
      "Danh sách sinh viên và điểm: (dictionary) {'tung': [1.0, 'Yếu'], 'sang': [2.0, 'Yếu'], 'trinh': [9.0, 'Xuất sắc']}\n",
      "Sinh viên: tung, Điểm: 1.0, Loại: Yếu\n",
      "Sinh viên: sang, Điểm: 2.0, Loại: Yếu\n",
      "Sinh viên: trinh, Điểm: 9.0, Loại: Xuất sắc\n"
     ]
    }
   ],
   "source": [
    "student_dict = {}\n",
    "print(\"Vui lòng nhập thông tin sinh viên theo định dạng : Tên sinh viên, điểm sinh viên\")\n",
    "while True: \n",
    "    ten_sv = input(\"Nhập tên sinh viên: (gõ 'esc' nếu không còn dữ liệu)\")\n",
    "    if ten_sv.lower() == 'esc':\n",
    "        print(\"Kết thúc\")\n",
    "        break\n",
    "    diem_sv = float(input(\"Nhập điểm sinh viên: \"))\n",
    "    if diem_sv >= 9:\n",
    "        loai = \"Xuất sắc\"   \n",
    "    elif diem_sv >= 8:\n",
    "        loai = \"Giỏi\"\n",
    "    elif diem_sv >= 7:\n",
    "        loai = \"Khá\"\n",
    "    elif diem_sv >= 5:\n",
    "        loai = \"Trung bình\"\n",
    "    else:\n",
    "        loai = \"Yếu\"\n",
    "    student_dict[ten_sv] = [diem_sv, loai]\n",
    "print(\"Danh sách sinh viên và điểm: (dictionary)\", student_dict,)\n",
    "\n",
    "for ten_sv, (diem_sv, loai) in student_dict.items():\n",
    "    print(f\"Sinh viên: {ten_sv}, Điểm: {diem_sv}, Loại: {loai}\")\n"
   ]
  },
  {
   "cell_type": "markdown",
   "id": "0f2483fe",
   "metadata": {},
   "source": [
    "## Lab 3 - Bài 3"
   ]
  },
  {
   "cell_type": "code",
   "execution_count": 25,
   "id": "7034990b",
   "metadata": {},
   "outputs": [
    {
     "name": "stdout",
     "output_type": "stream",
     "text": [
      "Nhập một số để kiểm tra số nguyên tố (gõ 'q' để thoát): \n",
      "1 không phải là số nguyên tố\n",
      "\n",
      "Vui lòng nhập một số nguyên hợp lệ.\n",
      "-1 không phải là số nguyên tố\n",
      "\n",
      "Kết thúc\n"
     ]
    }
   ],
   "source": [
    "print(\"Nhập một số để kiểm tra số nguyên tố (gõ 'q' để thoát): \")\n",
    "\n",
    "while True:\n",
    "    n = input(\"Nhập số nguyên dương n: \")\n",
    "    if n.lower() == 'q':   # Thoát nếu gõ q\n",
    "        print(\"Kết thúc\")\n",
    "        break\n",
    "\n",
    "    try:\n",
    "        n = int(n)\n",
    "    except ValueError:\n",
    "        print(\"Vui lòng nhập một số nguyên hợp lệ.\")\n",
    "        continue\n",
    "\n",
    "    ok = True\n",
    "    i = 2\n",
    "    while i < (n - 1):\n",
    "        if n % i == 0:\n",
    "            ok = False\n",
    "            break\n",
    "        i += 1\n",
    "\n",
    "    if ok and n > 1:\n",
    "        print(f\"{n} là số nguyên tố\\n\")\n",
    "    else:\n",
    "        print(f\"{n} không phải là số nguyên tố\\n\")\n"
   ]
  },
  {
   "cell_type": "markdown",
   "id": "d36ea3d3",
   "metadata": {},
   "source": [
    "## Lab 3 - Bài 4"
   ]
  },
  {
   "cell_type": "code",
   "execution_count": null,
   "id": "4c707ec1",
   "metadata": {},
   "outputs": [
    {
     "name": "stdout",
     "output_type": "stream",
     "text": [
      "In toàn bộ bảng cửu chương từ 1 đến 10:\n",
      "1 x 1 = 1\t1 x 2 = 2\t1 x 3 = 3\t1 x 4 = 4\t1 x 5 = 5\t1 x 6 = 6\t1 x 7 = 7\t1 x 8 = 8\t1 x 9 = 9\t1 x 10 = 10\t\n",
      "2 x 1 = 2\t2 x 2 = 4\t2 x 3 = 6\t2 x 4 = 8\t2 x 5 = 10\t2 x 6 = 12\t2 x 7 = 14\t2 x 8 = 16\t2 x 9 = 18\t2 x 10 = 20\t\n",
      "3 x 1 = 3\t3 x 2 = 6\t3 x 3 = 9\t3 x 4 = 12\t3 x 5 = 15\t3 x 6 = 18\t3 x 7 = 21\t3 x 8 = 24\t3 x 9 = 27\t3 x 10 = 30\t\n",
      "4 x 1 = 4\t4 x 2 = 8\t4 x 3 = 12\t4 x 4 = 16\t4 x 5 = 20\t4 x 6 = 24\t4 x 7 = 28\t4 x 8 = 32\t4 x 9 = 36\t4 x 10 = 40\t\n",
      "5 x 1 = 5\t5 x 2 = 10\t5 x 3 = 15\t5 x 4 = 20\t5 x 5 = 25\t5 x 6 = 30\t5 x 7 = 35\t5 x 8 = 40\t5 x 9 = 45\t5 x 10 = 50\t\n",
      "6 x 1 = 6\t6 x 2 = 12\t6 x 3 = 18\t6 x 4 = 24\t6 x 5 = 30\t6 x 6 = 36\t6 x 7 = 42\t6 x 8 = 48\t6 x 9 = 54\t6 x 10 = 60\t\n",
      "7 x 1 = 7\t7 x 2 = 14\t7 x 3 = 21\t7 x 4 = 28\t7 x 5 = 35\t7 x 6 = 42\t7 x 7 = 49\t7 x 8 = 56\t7 x 9 = 63\t7 x 10 = 70\t\n",
      "8 x 1 = 8\t8 x 2 = 16\t8 x 3 = 24\t8 x 4 = 32\t8 x 5 = 40\t8 x 6 = 48\t8 x 7 = 56\t8 x 8 = 64\t8 x 9 = 72\t8 x 10 = 80\t\n",
      "9 x 1 = 9\t9 x 2 = 18\t9 x 3 = 27\t9 x 4 = 36\t9 x 5 = 45\t9 x 6 = 54\t9 x 7 = 63\t9 x 8 = 72\t9 x 9 = 81\t9 x 10 = 90\t\n",
      "10 x 1 = 10\t10 x 2 = 20\t10 x 3 = 30\t10 x 4 = 40\t10 x 5 = 50\t10 x 6 = 60\t10 x 7 = 70\t10 x 8 = 80\t10 x 9 = 90\t10 x 10 = 100\t\n"
     ]
    }
   ],
   "source": [
    "import math\n",
    "# cách 1 : tra cứu từng bảng cửu chương\n",
    "# print(\"Chọn bảng cửu chương muốn tra cứu (gõ 'q' để thoát): \")\n",
    "# while True:\n",
    "#     n = input(\"Nhập bảng cửu chương : \")\n",
    "#     if n.lower() == 'q':   # Thoát nếu gõ q\n",
    "#         print(\"Kết thúc\")\n",
    "#         break\n",
    "#     try:\n",
    "#         n = int(n)\n",
    "#         if n < 1 or n > 10:\n",
    "#             print(\"Vui lòng nhập số từ 1 đến 10.\")\n",
    "#             continue\n",
    "#     except ValueError:\n",
    "#         print(\"Vui lòng nhập một số nguyên hợp lệ.\")\n",
    "#         continue\n",
    "#     print(f\"Bảng cửu chương {n}:\")\n",
    "#     for i in range(1, 11):\n",
    "#         print(f\"{n} x {i} = {n * i}\")\n",
    "# cách 2 : in toàn bộ bảng cửu chương từ 1 đến 10\n",
    "print(\"In toàn bộ bảng cửu chương từ 1 đến 10:\")\n",
    "for n in range(1, 11):\n",
    "    for i in range(1, 11):\n",
    "        print(f\"{n} x {i} = {n * i}\", end='\\t' )\n",
    "    print()\n"
   ]
  },
  {
   "cell_type": "markdown",
   "id": "e2b41d4a",
   "metadata": {},
   "source": [
    "## Lab 3 - Bài 5: bài tập làm thêm"
   ]
  },
  {
   "cell_type": "code",
   "execution_count": 4,
   "id": "0e0172f7",
   "metadata": {},
   "outputs": [
    {
     "name": "stdout",
     "output_type": "stream",
     "text": [
      "Vui lòng chọn số để thực hiện chức năng:\n",
      "1. Phép tính cơ bản\n",
      "2. Tính lũy thừa\n",
      "3. Tính căn bậc hai\n",
      "4. Tính hàm lượng giác\n",
      "5. Tính logarit\n",
      "6. Giải phương trình bậc nhất\n",
      "7. Giải phương trình bậc hai\n",
      "8. Xem lại các phép tính đã thực hiện\n",
      "0. Thoát\n",
      "Bạn đã chọn phép tính cơ bản\n",
      "1.0  +  1.0  =  2.0\n",
      "1.0  -  1.0  =  0.0\n",
      "1.0  *  1.0  =  1.0\n",
      "1.0  /  1.0  =  1.0\n",
      "Bạn đã chọn phép tính cơ bản\n",
      "1.0  +  1.0  =  2.0\n",
      "1.0  -  1.0  =  0.0\n",
      "1.0  *  1.0  =  1.0\n",
      "1.0  /  1.0  =  1.0\n",
      "Bạn đã chọn phép tính cơ bản\n",
      "21.0  +  21.0  =  42.0\n",
      "21.0  -  21.0  =  0.0\n",
      "21.0  *  21.0  =  441.0\n",
      "21.0  /  21.0  =  1.0\n",
      "Bạn đã chọn xem lại các phép tính đã thực hiện\n",
      "Bạn đã chọn thoát chương trình\n"
     ]
    }
   ],
   "source": [
    "import math\n",
    "\n",
    "menu = \"\"\"Vui lòng chọn số để thực hiện chức năng:\n",
    "1. Phép tính cơ bản\n",
    "2. Tính lũy thừa\n",
    "3. Tính căn bậc hai\n",
    "4. Tính hàm lượng giác\n",
    "5. Tính logarit\n",
    "6. Giải phương trình bậc nhất\n",
    "7. Giải phương trình bậc hai\n",
    "8. Xem lại các phép tính đã thực hiện\n",
    "0. Thoát\"\"\"\n",
    "print(menu)\n",
    "co_ban = []\n",
    "luy_thua = []\n",
    "can_bac_hai = []\n",
    "ham_luong_giac = []\n",
    "logarit = []\n",
    "phuong_trinh_bac_nhat = []\n",
    "phuong_trinh_bac_hai = []\n",
    "pheptinh_da_thuc = []\n",
    "while True:\n",
    "    try:\n",
    "        lua_chon = int(input(\"Mời bạn chọn chức năng: \"))\n",
    "    except ValueError:\n",
    "        print(\"Vui lòng nhập một số hợp lệ.\")\n",
    "        continue\n",
    "    match lua_chon:\n",
    "        case 1:\n",
    "            while True:\n",
    "                print(\"Bạn đã chọn phép tính cơ bản\")\n",
    "                a = float(input(\"Nhập số thứ nhất: \"))\n",
    "                b = float(input(\"Nhập số thứ hai: \"))\n",
    "                cong = a + b\n",
    "                tru = a - b\n",
    "                nhan = a * b\n",
    "                chia = a / b if b != 0 else \"Không thể chia cho 0\"\n",
    "                print(a, \" + \", b, \" = \", cong)\n",
    "                print(a, \" - \", b, \" = \", tru)\n",
    "                print(a, \" * \", b, \" = \", nhan)\n",
    "                print(a, \" / \", b, \" = \", chia)\n",
    "                co_ban.append((a, b, cong, tru, nhan, chia))\n",
    "                tiep_tuc = input(\"Bạn có muốn tiếp tục phép tính cơ bản không? (y/n): \")\n",
    "                if tiep_tuc.lower() != 'y':\n",
    "                    break\n",
    "        case 2:\n",
    "            print(\"Bạn đã chọn tính lũy thừa\")\n",
    "        case 3:\n",
    "            print(\"Bạn đã chọn tính căn bậc hai\")\n",
    "        case 4:\n",
    "            print(\"Bạn đã chọn tính hàm lượng giác\")\n",
    "        case 5:\n",
    "            print(\"Bạn đã chọn tính logarit\")\n",
    "        case 6:\n",
    "            print(\"Bạn đã chọn giải phương trình bậc nhất\")\n",
    "        case 7:\n",
    "            print(\"Bạn đã chọn giải phương trình bậc hai\")\n",
    "        case 8:\n",
    "            print(\"Bạn đã chọn xem lại các phép tính đã thực hiện\")\n",
    "        case 0:\n",
    "            print(\"Bạn đã chọn thoát chương trình\")\n",
    "            break\n",
    "        \n",
    "\n"
   ]
  },
  {
   "cell_type": "code",
   "execution_count": null,
   "id": "a4c541a8",
   "metadata": {},
   "outputs": [],
   "source": []
  }
 ],
 "metadata": {
  "kernelspec": {
   "display_name": "Python 3",
   "language": "python",
   "name": "python3"
  },
  "language_info": {
   "codemirror_mode": {
    "name": "ipython",
    "version": 3
   },
   "file_extension": ".py",
   "mimetype": "text/x-python",
   "name": "python",
   "nbconvert_exporter": "python",
   "pygments_lexer": "ipython3",
   "version": "3.13.7"
  }
 },
 "nbformat": 4,
 "nbformat_minor": 5
}
