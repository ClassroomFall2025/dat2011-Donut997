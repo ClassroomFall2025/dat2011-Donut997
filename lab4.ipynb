{
 "cells": [
  {
   "cell_type": "markdown",
   "id": "fdeff819",
   "metadata": {},
   "source": [
    "# Sinh Viên thực hiện Lab 4 ở Đây"
   ]
  },
  {
   "cell_type": "markdown",
   "id": "acc5d7dc",
   "metadata": {},
   "source": [
    "## Lab 1 - Bài 1"
   ]
  },
  {
   "cell_type": "code",
   "execution_count": null,
   "id": "001e0507",
   "metadata": {},
   "outputs": [
    {
     "ename": "TypeError",
     "evalue": "'<=' not supported between instances of 'int' and 'str'",
     "output_type": "error",
     "traceback": [
      "\u001b[31m---------------------------------------------------------------------------\u001b[39m",
      "\u001b[31mTypeError\u001b[39m                                 Traceback (most recent call last)",
      "\u001b[36mCell\u001b[39m\u001b[36m \u001b[39m\u001b[32mIn[1]\u001b[39m\u001b[32m, line 23\u001b[39m\n\u001b[32m     21\u001b[39m \u001b[38;5;28;01mimport\u001b[39;00m\u001b[38;5;250m \u001b[39m\u001b[34;01mlab4_def\u001b[39;00m\n\u001b[32m     22\u001b[39m so_nuoc = (\u001b[38;5;28minput\u001b[39m(\u001b[33m\"\u001b[39m\u001b[33mnhap so nuoc:\u001b[39m\u001b[33m\"\u001b[39m))\n\u001b[32m---> \u001b[39m\u001b[32m23\u001b[39m \u001b[38;5;28mprint\u001b[39m(\u001b[43mlab4_def\u001b[49m\u001b[43m.\u001b[49m\u001b[43mtinh_tien_nuoc\u001b[49m\u001b[43m(\u001b[49m\u001b[43mso_nuoc\u001b[49m\u001b[43m)\u001b[49m)\n",
      "\u001b[36mFile \u001b[39m\u001b[32me:\\Study\\FPT poly\\Fall_2025\\DAT2011\\dat2011-Donut997\\lab4_def.py:5\u001b[39m, in \u001b[36mtinh_tien_nuoc\u001b[39m\u001b[34m(so_nuoc)\u001b[39m\n",
      "\u001b[31mTypeError\u001b[39m: '<=' not supported between instances of 'int' and 'str'"
     ]
    }
   ],
   "source": [
    "\n",
    "# def tinh_tien_nuoc(so_nuoc):\n",
    "#     gia_ban_nuoc = (7500, 8800, 12000, 24000)\n",
    "#     if 0 <= so_nuoc <= 10:\n",
    "#         tien_thang = so_nuoc * gia_ban_nuoc[0]\n",
    "#     elif so_nuoc <= 20:\n",
    "#         tien_thang = 10 * gia_ban_nuoc[0] + (so_nuoc - 10) * gia_ban_nuoc[1]\n",
    "#     elif so_nuoc <= 30:\n",
    "#         tien_thang = 10 * gia_ban_nuoc[0] + 10 * gia_ban_nuoc[1] + (so_nuoc - 20) * gia_ban_nuoc[2]\n",
    "#     else:\n",
    "#         tien_thang = 10 * gia_ban_nuoc[0] + 10 * gia_ban_nuoc[1] + 10 * gia_ban_nuoc[2] + (so_nuoc - 30) * gia_ban_nuoc[3]\n",
    "#     return tien_thang\n",
    "\n",
    "\n",
    "# print(\"Nhập tháng cần được tính tiền\")\n",
    "# thang = input(\"Vui lòng nhập tháng\")\n",
    "# print(\"Nhập số tiền nước đã được thông báo\")\n",
    "# so_nuoc = float(input(\"Vui lòng nhập số tiền nước đã được thông báo\"))\n",
    "# print(\"Tiền nước tháng\", thang, \"của bạn là\", tinh_tien_nuoc(so_nuoc), \"VNĐ\")"
   ]
  },
  {
   "cell_type": "markdown",
   "id": "c0835310",
   "metadata": {},
   "source": [
    "## Lab 4 - Bài 2"
   ]
  },
  {
   "cell_type": "code",
   "execution_count": null,
   "id": "fa9cb39f",
   "metadata": {},
   "outputs": [
    {
     "name": "stdout",
     "output_type": "stream",
     "text": [
      "Vui lòng nhập số lượng bánh đậu xanh\n",
      "Vui lòng nhập số lượng bánh thập cẩm\n",
      "Vui lòng nhập số lượng bánh dẻo\n",
      "Số lượng nguyên liệu cần để làm 2 bánh đậu xanh, 3 bánh thập cẩm, 4 bánh dẻo là {'Đường': 0.46, 'Đậu': 0.22000000000000003}\n"
     ]
    }
   ],
   "source": [
    "# def tinh_nguyen_lieu(sl_bdx, sl_btc, sl_bd):\n",
    "#     dau_xanh = {\"Đường\": 0.04, \"Đậu\": 0.07}\n",
    "#     thap_cam = {\"Đường\": 0.06, \"Đậu\": 0}\n",
    "#     banh_deo = {\"Đường\": 0.05, \"Đậu\": 0.02}\n",
    "#     nguyen_lieu = {}\n",
    "#     duong = sl_bdx * dau_xanh [\"Đường\"] + sl_btc * thap_cam[\"Đường\"] + sl_bd * banh_deo[\"Đường\"]\n",
    "#     dau = sl_bdx * dau_xanh [\"Đậu\"] + sl_btc * thap_cam[\"Đậu\"] + sl_bd * banh_deo[\"Đậu\"]\n",
    "#     nguyen_lieu [\"Đường\"] = duong\n",
    "#     nguyen_lieu [\"Đậu\"] = dau\n",
    "#     return nguyen_lieu\n",
    "\n",
    "# print(\"Vui lòng nhập số lượng bánh đậu xanh\")\n",
    "# sl_bdx = int(input(\"Nhập số lượng bánh đậu xanh\"))\n",
    "# print(\"Vui lòng nhập số lượng bánh thập cẩm\")\n",
    "# sl_btc = int(input(\"Nhập số lượng bánh thập cẩm\"))\n",
    "# print(\"Vui lòng nhập số lượng bánh dẻo\")\n",
    "# sl_bd = int(input(\"Nhập số lượng bánh dẻo\"))\n",
    "# print(\"Số lượng nguyên liệu cần để làm\", sl_bdx, \"bánh đậu xanh,\", sl_btc, \"bánh thập cẩm,\", sl_bd,\"bánh dẻo là\", tinh_nguyen_lieu(sl_bdx, sl_btc, sl_bd))"
   ]
  },
  {
   "cell_type": "markdown",
   "id": "0f2483fe",
   "metadata": {},
   "source": [
    "## Lab 4 - Bài 3"
   ]
  },
  {
   "cell_type": "code",
   "execution_count": null,
   "id": "7034990b",
   "metadata": {},
   "outputs": [],
   "source": [
    "my_list = []\n",
    "while True:\n",
    "    so = input(\"nhập số nguyên: (Nhập q để thoát)\")\n",
    "    if so.lower() == 'q':    \n",
    "        print(\"thoát chương trình\")\n",
    "        break\n",
    "    try:\n",
    "        so_nguyen = int(so)\n",
    "        my_list.append(so_nguyen)\n",
    "\n",
    "    except ValueError:\n",
    "        print(\"Lỗi: vui lòng nhập số nguyên dương hoặc 'q' để thoát\")\n",
    "        continue\n",
    "print(\"danh sach vừa nhập là: \", my_list)\n",
    "new_list = list(filter(lambda x: (x % 2 == 0), my_list))\n",
    "print(\"danh sách các số chẵn là: \", new_list)"
   ]
  },
  {
   "cell_type": "markdown",
   "id": "d36ea3d3",
   "metadata": {},
   "source": [
    "## Lab 4 - Bài 4"
   ]
  },
  {
   "cell_type": "code",
   "execution_count": 2,
   "id": "4c707ec1",
   "metadata": {},
   "outputs": [
    {
     "name": "stdout",
     "output_type": "stream",
     "text": [
      "\n",
      "        \"1\": Tính tiền nước\n",
      "        \"2\": Tính nguyên liệu\n",
      "        \"3\": Kết thúc\n",
      "\n",
      "Vui lòng nhập chức năng (ấn 'q' để thoát)\n",
      "Bạn đã chọn chức năng tính tiền nước \n",
      " Vui lòng ghi tháng và số nước được thông báo\n",
      "Tiền nước của q là tổng cộng 199000.0\n"
     ]
    }
   ],
   "source": [
    "import lab4_def\n",
    "menu = '''\n",
    "        \"1\": Tính tiền nước\n",
    "        \"2\": Tính nguyên liệu\n",
    "        \"3\": Kết thúc\n",
    "'''\n",
    "print (menu)\n",
    "\n",
    "while True:\n",
    "\n",
    "    print(\"Vui lòng nhập chức năng (ấn 'q' để thoát)\")\n",
    "    chuc_nang = input(\"Nhập chức năng\")\n",
    "        \n",
    "    match chuc_nang:\n",
    "        case \"1\": \n",
    "            print(\"Bạn đã chọn chức năng tính tiền nước \\n Vui lòng ghi tháng và số nước được thông báo\")\n",
    "            thang = input(\"Điền tháng cần được tính\")\n",
    "            so_nuoc = float(input(\"Điền số nước đã được thông báo\"))\n",
    "            print(\"Tiền nước của\", thang, \"là tổng cộng\", lab4_def.tinh_tien_nuoc(so_nuoc))\n",
    "            tiep_tuc = input(\"Bạn có muốn tiếp tục tính tiền nước không? (y/n): \")\n",
    "            if tiep_tuc.lower() != 'y':\n",
    "                break\n",
    "        case \"2\":\n",
    "            print(\"Bạn đã chọn chức năng tính nguyên liệu\\n Vui lòng nhập số lượng bánh\")\n",
    "            print(\"Vui lòng nhập số lượng bánh đậu xanh\")\n",
    "            sl_bdx = int(input(\"Nhập số lượng bánh đậu xanh\"))\n",
    "            print(\"Vui lòng nhập số lượng bánh thập cẩm\")\n",
    "            sl_btc = int(input(\"Nhập số lượng bánh thập cẩm\"))\n",
    "            print(\"Vui lòng nhập số lượng bánh dẻo\")\n",
    "            sl_bd = int(input(\"Nhập số lượng bánh dẻo\"))\n",
    "            print(\"Số lượng nguyên liệu cần để làm\", sl_bdx, \"bánh đậu xanh,\", sl_btc, \"bánh thập cẩm,\", sl_bd,\"bánh dẻo là\", lab4_def.tinh_nguyen_lieu(sl_bdx, sl_btc, sl_bd))\n",
    "            tiep_tuc = input(\"Bạn có muốn tiếp tục tính nguyên liệu làm bánh không? (y/n): \")\n",
    "            if tiep_tuc.lower() != 'y':\n",
    "                break\n",
    "        case \"q\":\n",
    "            print(\"Bạn đã thoát chương trình \\n Xin cám ơn\")\n",
    "            break"
   ]
  },
  {
   "cell_type": "markdown",
   "id": "e2b41d4a",
   "metadata": {},
   "source": [
    "## Lab 4 - Bài 5: bài tập làm thêm"
   ]
  },
  {
   "cell_type": "code",
   "execution_count": null,
   "id": "0e0172f7",
   "metadata": {},
   "outputs": [],
   "source": [
    "# code lab 4  bài làm thêm ở đây "
   ]
  }
 ],
 "metadata": {
  "kernelspec": {
   "display_name": "Python 3",
   "language": "python",
   "name": "python3"
  },
  "language_info": {
   "codemirror_mode": {
    "name": "ipython",
    "version": 3
   },
   "file_extension": ".py",
   "mimetype": "text/x-python",
   "name": "python",
   "nbconvert_exporter": "python",
   "pygments_lexer": "ipython3",
   "version": "3.13.7"
  }
 },
 "nbformat": 4,
 "nbformat_minor": 5
}
